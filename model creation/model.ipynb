{
 "cells": [
  {
   "cell_type": "code",
   "execution_count": 63,
   "id": "a82d2577",
   "metadata": {},
   "outputs": [],
   "source": [
    "import pandas as pd\n",
    "from sklearn.model_selection import train_test_split\n",
    "from sklearn.preprocessing import StandardScaler"
   ]
  },
  {
   "cell_type": "code",
   "execution_count": 64,
   "id": "87f34c9e",
   "metadata": {},
   "outputs": [],
   "source": [
    "\n",
    "df=pd.read_csv(r'C:\\Users\\DO TUAN MINH\\Desktop\\ben\\Learn\\Project\\demo_data\\final.csv')"
   ]
  },
  {
   "cell_type": "code",
   "execution_count": 65,
   "id": "c6487e4b",
   "metadata": {},
   "outputs": [],
   "source": [
    "df=df.drop(columns=['D THU'])"
   ]
  },
  {
   "cell_type": "code",
   "execution_count": 66,
   "id": "9f362824",
   "metadata": {},
   "outputs": [],
   "source": [
    "df = df.dropna().reset_index(drop=True)\n"
   ]
  },
  {
   "cell_type": "code",
   "execution_count": 67,
   "id": "669f8d26",
   "metadata": {},
   "outputs": [],
   "source": [
    "x=df.drop(columns=['revenue','date'])\n",
    "y=df['revenue']\n"
   ]
  },
  {
   "cell_type": "code",
   "execution_count": 68,
   "id": "32bf23e9",
   "metadata": {},
   "outputs": [],
   "source": [
    "weekday_columns = ['weekday_Monday', 'weekday_Tuesday', 'weekday_Wednesday', 'weekday_Thursday', 'weekday_Friday', 'weekday_Saturday', 'weekday_Sunday']\n",
    "df[weekday_columns] = df[weekday_columns].astype(int)\n"
   ]
  },
  {
   "cell_type": "code",
   "execution_count": 81,
   "id": "fbec3287",
   "metadata": {},
   "outputs": [
    {
     "data": {
      "text/plain": [
       "<bound method DataFrame.count of            date  weekday_Friday  weekday_Monday  weekday_Saturday  \\\n",
       "0    2023-01-08               0               0                 0   \n",
       "1    2023-01-09               0               1                 0   \n",
       "2    2023-01-10               0               0                 0   \n",
       "3    2023-01-11               0               0                 0   \n",
       "4    2023-01-12               0               0                 0   \n",
       "..          ...             ...             ...               ...   \n",
       "308  2023-12-26               0               0                 0   \n",
       "309  2023-12-28               0               0                 0   \n",
       "310  2023-12-29               1               0                 0   \n",
       "311  2023-12-30               0               0                 1   \n",
       "312  2023-12-31               0               0                 0   \n",
       "\n",
       "     weekday_Sunday  weekday_Thursday  weekday_Tuesday  weekday_Wednesday  \\\n",
       "0                 1                 0                0                  0   \n",
       "1                 0                 0                0                  0   \n",
       "2                 0                 0                1                  0   \n",
       "3                 0                 0                0                  1   \n",
       "4                 0                 1                0                  0   \n",
       "..              ...               ...              ...                ...   \n",
       "308               0                 0                1                  0   \n",
       "309               0                 1                0                  0   \n",
       "310               0                 0                0                  0   \n",
       "311               0                 0                0                  0   \n",
       "312               1                 0                0                  0   \n",
       "\n",
       "     totalprecip_mm  avgvis_km  ...  pressure_in  humidity  revenue  \\\n",
       "0              0.00       10.0  ...        30.08        80   3460.0   \n",
       "1              1.10       10.0  ...        30.06        88   2720.0   \n",
       "2              7.10        5.4  ...        30.03        95   3705.0   \n",
       "3             13.10        6.0  ...        29.97        93   3010.0   \n",
       "4             12.00        5.0  ...        29.87        92   3295.0   \n",
       "..              ...        ...  ...          ...       ...      ...   \n",
       "308            2.04        8.3  ...        30.22        78   2400.0   \n",
       "309            0.72       10.0  ...        30.12        88   2745.0   \n",
       "310            1.83        8.7  ...        30.05        92   2935.0   \n",
       "311            4.16        5.3  ...        30.02        95   3920.0   \n",
       "312            1.01        5.7  ...        30.01        93   3643.0   \n",
       "\n",
       "     revenue_prev1  revenue_prev2  revenue_mean_3  revenue_mean_7  \\\n",
       "0           3620.0         2525.0     2750.000000     3321.142857   \n",
       "1           3460.0         3620.0     3201.666667     2994.714286   \n",
       "2           2720.0         3460.0     3266.666667     2946.857143   \n",
       "3           3705.0         2720.0     3295.000000     3028.571429   \n",
       "4           3010.0         3705.0     3145.000000     3020.714286   \n",
       "..             ...            ...             ...             ...   \n",
       "308         2155.0         4000.0     3207.666667     2640.857143   \n",
       "309         2400.0         2155.0     2851.666667     2705.142857   \n",
       "310         2745.0         2400.0     2433.333333     2774.428571   \n",
       "311         2935.0         2745.0     2693.333333     2784.714286   \n",
       "312         3920.0         2935.0     3200.000000     3089.000000   \n",
       "\n",
       "     revenue_diff  revenue_pct_change  revenue_dev_from_mean7  \n",
       "0          1095.0            0.433663              298.857143  \n",
       "1          -160.0           -0.044199              465.285714  \n",
       "2          -740.0           -0.213873             -226.857143  \n",
       "3           985.0            0.362132              676.428571  \n",
       "4          -695.0           -0.187584              -10.714286  \n",
       "..            ...                 ...                     ...  \n",
       "308       -1845.0           -0.461250             -485.857143  \n",
       "309         245.0            0.113689             -305.142857  \n",
       "310         345.0            0.143750              -29.428571  \n",
       "311         190.0            0.069217              150.285714  \n",
       "312         985.0            0.335605              831.000000  \n",
       "\n",
       "[313 rows x 22 columns]>"
      ]
     },
     "execution_count": 81,
     "metadata": {},
     "output_type": "execute_result"
    }
   ],
   "source": [
    "df.count"
   ]
  },
  {
   "cell_type": "code",
   "execution_count": 54,
   "id": "c0e4611a",
   "metadata": {},
   "outputs": [
    {
     "data": {
      "text/plain": [
       "date                       object\n",
       "weekday_Friday              int32\n",
       "weekday_Monday              int32\n",
       "weekday_Saturday            int32\n",
       "weekday_Sunday              int32\n",
       "weekday_Thursday            int32\n",
       "weekday_Tuesday             int32\n",
       "weekday_Wednesday           int32\n",
       "totalprecip_mm            float64\n",
       "avgvis_km                 float64\n",
       "temp_c                    float64\n",
       "wind_kph                  float64\n",
       "pressure_in               float64\n",
       "humidity                    int64\n",
       "revenue                   float64\n",
       "revenue_prev1             float64\n",
       "revenue_prev2             float64\n",
       "revenue_mean_3            float64\n",
       "revenue_mean_7            float64\n",
       "revenue_diff              float64\n",
       "revenue_pct_change        float64\n",
       "revenue_dev_from_mean7    float64\n",
       "dtype: object"
      ]
     },
     "execution_count": 54,
     "metadata": {},
     "output_type": "execute_result"
    }
   ],
   "source": [
    "df.dtypes"
   ]
  },
  {
   "cell_type": "code",
   "execution_count": 71,
   "id": "b2280232",
   "metadata": {},
   "outputs": [],
   "source": [
    "from sklearn.model_selection import train_test_split\n",
    "\n",
    "x_train, x_test, y_train, y_test =train_test_split(x,y, test_size=0.2, shuffle=False, random_state=42)"
   ]
  },
  {
   "cell_type": "code",
   "execution_count": 77,
   "id": "ce7c7804",
   "metadata": {},
   "outputs": [
    {
     "name": "stdout",
     "output_type": "stream",
     "text": [
      "     weekday_Friday  weekday_Monday  weekday_Saturday  weekday_Sunday  \\\n",
      "90                0               0                 0               0   \n",
      "218               0               0                 1               0   \n",
      "256               0               0                 0               0   \n",
      "137               0               0                 0               0   \n",
      "204               0               0                 0               0   \n",
      "\n",
      "     weekday_Thursday  weekday_Tuesday  weekday_Wednesday  totalprecip_mm  \\\n",
      "90                  0                0                  1       -0.410929   \n",
      "218                 0                0                  0       -0.140456   \n",
      "256                 1                0                  0       -0.401708   \n",
      "137                 1                0                  0       -0.410929   \n",
      "204                 1                0                  0       -0.189633   \n",
      "\n",
      "     avgvis_km    temp_c  wind_kph  pressure_in  humidity  revenue_prev1  \\\n",
      "90    0.595958  1.345824  0.886316    -1.295029 -1.842614      -0.164256   \n",
      "218   0.439785  0.716123 -0.890034    -0.852671 -0.211020       0.191154   \n",
      "256   0.595958  0.129849 -0.748890     0.081197  0.151557      -1.144173   \n",
      "137   0.595958  0.694409 -0.786758    -0.803520  0.060913      -0.486157   \n",
      "204   0.205524  0.759550 -0.748890    -0.901822  0.151557      -0.336884   \n",
      "\n",
      "     revenue_prev2  revenue_mean_3  revenue_mean_7  revenue_diff  \\\n",
      "90       -0.638504        0.148391       -0.379171      0.406509   \n",
      "218      -0.993293       -0.677223        0.495436      1.029640   \n",
      "256      -1.134165       -1.768465       -2.241519     -0.036004   \n",
      "137      -0.221105       -0.211996        0.596252     -0.241005   \n",
      "204      -0.048928       -0.117741        0.712629     -0.257261   \n",
      "\n",
      "     revenue_pct_change  revenue_dev_from_mean7  \n",
      "90             0.265572                0.006154  \n",
      "218            1.126130               -0.034675  \n",
      "256           -0.217836               -0.160126  \n",
      "137           -0.397404               -0.854552  \n",
      "204           -0.399755               -0.744247  \n",
      "     weekday_Friday  weekday_Monday  weekday_Saturday  weekday_Sunday  \\\n",
      "46                0               0                 1               0   \n",
      "9                 0               0                 0               0   \n",
      "206               0               0                 1               0   \n",
      "139               0               0                 1               0   \n",
      "60                0               0                 0               1   \n",
      "\n",
      "     weekday_Thursday  weekday_Tuesday  weekday_Wednesday  totalprecip_mm  \\\n",
      "46                  0                0                  0       -0.394332   \n",
      "9                   0                1                  0        0.007074   \n",
      "206                 0                0                  0       -0.398635   \n",
      "139                 0                0                  0       -0.410929   \n",
      "60                  0                0                  0       -0.410929   \n",
      "\n",
      "     avgvis_km    temp_c  wind_kph  pressure_in  humidity  revenue_prev1  \\\n",
      "46    0.595958 -1.194696  0.173710     1.801480  0.876710       0.262236   \n",
      "9     0.595958 -2.106677  0.941396     1.457424  0.876710      -0.717681   \n",
      "206   0.595958  1.193827 -0.053497    -1.196727 -1.298749      -0.575517   \n",
      "139   0.439785  0.824692 -0.504470    -1.196727 -0.211020       1.384317   \n",
      "60    0.049351 -0.326142 -0.249722     0.130348  0.242201       0.260205   \n",
      "\n",
      "     revenue_prev2  revenue_mean_3  revenue_mean_7  revenue_diff  \\\n",
      "46       -1.264602       -0.499298       -0.417747      1.327659   \n",
      "9         2.533729        1.260802        1.094175     -2.831062   \n",
      "206      -0.221105       -0.561294        0.467881     -0.320477   \n",
      "139      -1.113295       -0.093547        1.207310      2.194623   \n",
      "60       -1.108077       -0.668150       -0.760717      1.190389   \n",
      "\n",
      "     revenue_pct_change  revenue_dev_from_mean7  \n",
      "46             1.749490                0.509769  \n",
      "9             -1.518768               -1.370185  \n",
      "206           -0.470745               -0.890772  \n",
      "139            2.760145                0.957903  \n",
      "60             1.415409                0.681647  \n"
     ]
    }
   ],
   "source": [
    "from sklearn.model_selection import train_test_split\n",
    "from sklearn.preprocessing import StandardScaler\n",
    "\n",
    "# Lọc các cột số, trừ cột target 'revenue' và các cột one-hot weekday\n",
    "numeric_columns = df.select_dtypes(include=['float64', 'int64']).columns.tolist()\n",
    "exclude_columns = ['revenue'] + ['weekday_Monday', 'weekday_Tuesday', 'weekday_Wednesday',\n",
    "                                 'weekday_Thursday', 'weekday_Friday', 'weekday_Saturday', 'weekday_Sunday']\n",
    "numeric_columns = [col for col in numeric_columns if col not in exclude_columns]\n",
    "\n",
    "# Chia dữ liệu thành train/test\n",
    "X = df.drop(columns=['revenue', 'date'])  # X là các đặc trưng (features)\n",
    "y = df['revenue']  # y là target (doanh thu)\n",
    "\n",
    "X_train, X_test, y_train, y_test = train_test_split(X, y, test_size=0.2, random_state=42)\n",
    "\n",
    "# Tạo đối tượng StandardScaler và chỉ fit trên dữ liệu huấn luyện\n",
    "scaler = StandardScaler()\n",
    "\n",
    "# Fit scaler trên tập huấn luyện và transform trên cả tập huấn luyện và kiểm tra\n",
    "\n",
    "\n",
    "X_train_scaled = scaler.fit_transform(X_train[numeric_columns])\n",
    "X_test_scaled = scaler.transform(X_test[numeric_columns])\n",
    "\n",
    "# Chuyển lại thành DataFrame với cột giống như ban đầu\n",
    "X_train_scaled = pd.DataFrame(X_train_scaled, columns=numeric_columns, index=X_train.index)\n",
    "X_test_scaled = pd.DataFrame(X_test_scaled, columns=numeric_columns, index=X_test.index)\n",
    "\n",
    "\n",
    "# Gộp lại với các cột không phải số\n",
    "X_train_final = X_train.drop(columns=numeric_columns).join(X_train_scaled)\n",
    "X_test_final = X_test.drop(columns=numeric_columns).join(X_test_scaled)\n",
    "\n",
    "# Kiểm tra dữ liệu sau khi scale\n",
    "print(X_train_final.head())\n",
    "print(X_test_final.head())\n"
   ]
  },
  {
   "cell_type": "code",
   "execution_count": 80,
   "id": "4b871426",
   "metadata": {},
   "outputs": [
    {
     "name": "stdout",
     "output_type": "stream",
     "text": [
      "              Model         MAE        RMSE        R2\n",
      "0  LinearRegression  436.162159  546.364395  0.652146\n",
      "1             Ridge  438.775808  547.654524  0.650502\n",
      "2             Lasso  437.418333  548.707244  0.649157\n",
      "3      RandomForest  466.875238  610.431973  0.565784\n",
      "4           XGBoost  508.054490  671.398645  0.474718\n",
      "5               SVR  717.504050  877.028751  0.103688\n"
     ]
    }
   ],
   "source": [
    "from sklearn.linear_model import LinearRegression, Ridge, Lasso\n",
    "from sklearn.ensemble import RandomForestRegressor\n",
    "from sklearn.svm import SVR\n",
    "from sklearn.metrics import mean_squared_error, r2_score, mean_absolute_error\n",
    "from xgboost import XGBRegressor\n",
    "\n",
    "import pandas as pd\n",
    "import numpy as np\n",
    "\n",
    "# Danh sách mô hình và tên\n",
    "models = {\n",
    "    'LinearRegression': LinearRegression(),\n",
    "    'Ridge': Ridge(),\n",
    "    'Lasso': Lasso(),\n",
    "    'RandomForest': RandomForestRegressor(n_estimators=100, random_state=42),\n",
    "    'XGBoost': XGBRegressor(n_estimators=100, random_state=42),\n",
    "    'SVR': SVR(kernel='linear')\n",
    "}\n",
    "\n",
    "# Data đầu vào: X_train_final, y_train, X_test_final, y_test\n",
    "\n",
    "results = []\n",
    "\n",
    "for name, model in models.items():\n",
    "    model.fit(X_train_final, y_train)\n",
    "    y_pred = model.predict(X_test_final)\n",
    "\n",
    "    mse = mean_squared_error(y_test, y_pred)\n",
    "    rmse = np.sqrt(mse)\n",
    "    mae = mean_absolute_error(y_test, y_pred)\n",
    "    r2 = r2_score(y_test, y_pred)\n",
    "\n",
    "    results.append({\n",
    "        'Model': name,\n",
    "        'MAE': mae,\n",
    "        'RMSE': rmse,\n",
    "        'R2': r2\n",
    "    })\n",
    "\n",
    "# In kết quả\n",
    "results_df = pd.DataFrame(results).sort_values(by='R2', ascending=False)\n",
    "print(results_df)\n"
   ]
  }
 ],
 "metadata": {
  "kernelspec": {
   "display_name": "Python 3",
   "language": "python",
   "name": "python3"
  },
  "language_info": {
   "codemirror_mode": {
    "name": "ipython",
    "version": 3
   },
   "file_extension": ".py",
   "mimetype": "text/x-python",
   "name": "python",
   "nbconvert_exporter": "python",
   "pygments_lexer": "ipython3",
   "version": "3.12.0"
  }
 },
 "nbformat": 4,
 "nbformat_minor": 5
}
